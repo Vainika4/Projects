{
 "cells": [
  {
   "cell_type": "markdown",
   "metadata": {},
   "source": [
    "# Assignment 4: Conjoint Analysis\n",
    "The objective of this assignment is to give you experience with ratings-based conjoint analysis.\n",
    "\n",
    "### Part 1: Study Design"
   ]
  },
  {
   "cell_type": "code",
   "execution_count": 6,
   "metadata": {},
   "outputs": [],
   "source": [
    "# Import the experimental design builder script.\n",
    "import sys\n",
    "sys.path.insert(1, '/data/Assignment-4')\n",
    "import designer"
   ]
  },
  {
   "cell_type": "markdown",
   "metadata": {},
   "source": [
    "**Task 1:** Define a variable called `attributes` that contains the attributes and levels within each attribute.  The viable shoukd be a dictionary where each attribute is a key and the value associated witht he key is a list of the levels.  For example, if the two attributes were color (with levels red and green) and shape (with levels round and square), then `attributes` would be defined as follows.\n",
    "\n",
    "```\n",
    "attributes = {\"color\": [\"red\", \"green\"],\n",
    "             \"shape\": [\"round\", \"square\"]}\n",
    "```"
   ]
  },
  {
   "cell_type": "code",
   "execution_count": 7,
   "metadata": {},
   "outputs": [],
   "source": [
    "attributes = {\"Transparency\": [\"Transparent\",\"Non-transparent\"],\n",
    "              \"Volume\": [\"20 FL OZ\",\"12 FL OZ\"],\n",
    "              \"Sugar\": [\"With Added Sugar\",\"Without Added Sugar\"],\n",
    "              \"Texture\": [\"Juicy\",\"Thick\"],\n",
    "              \"Flavor\": [\"Single-fruit Flavor\",\"Mixed-fruit Flavor\"]}"
   ]
  },
  {
   "cell_type": "code",
   "execution_count": 8,
   "metadata": {},
   "outputs": [
    {
     "data": {
      "text/html": [
       "<div>\n",
       "<style scoped>\n",
       "    .dataframe tbody tr th:only-of-type {\n",
       "        vertical-align: middle;\n",
       "    }\n",
       "\n",
       "    .dataframe tbody tr th {\n",
       "        vertical-align: top;\n",
       "    }\n",
       "\n",
       "    .dataframe thead th {\n",
       "        text-align: right;\n",
       "    }\n",
       "</style>\n",
       "<table border=\"1\" class=\"dataframe\">\n",
       "  <thead>\n",
       "    <tr style=\"text-align: right;\">\n",
       "      <th></th>\n",
       "      <th>Transparency</th>\n",
       "      <th>Volume</th>\n",
       "      <th>Sugar</th>\n",
       "      <th>Texture</th>\n",
       "      <th>Flavor</th>\n",
       "      <th>product</th>\n",
       "    </tr>\n",
       "  </thead>\n",
       "  <tbody>\n",
       "    <tr>\n",
       "      <td>0</td>\n",
       "      <td>Non-transparent</td>\n",
       "      <td>20 FL OZ</td>\n",
       "      <td>Without Added Sugar</td>\n",
       "      <td>Thick</td>\n",
       "      <td>Mixed-fruit Flavor</td>\n",
       "      <td>1</td>\n",
       "    </tr>\n",
       "    <tr>\n",
       "      <td>1</td>\n",
       "      <td>Non-transparent</td>\n",
       "      <td>12 FL OZ</td>\n",
       "      <td>Without Added Sugar</td>\n",
       "      <td>Thick</td>\n",
       "      <td>Mixed-fruit Flavor</td>\n",
       "      <td>2</td>\n",
       "    </tr>\n",
       "    <tr>\n",
       "      <td>2</td>\n",
       "      <td>Transparent</td>\n",
       "      <td>20 FL OZ</td>\n",
       "      <td>Without Added Sugar</td>\n",
       "      <td>Juicy</td>\n",
       "      <td>Mixed-fruit Flavor</td>\n",
       "      <td>3</td>\n",
       "    </tr>\n",
       "    <tr>\n",
       "      <td>3</td>\n",
       "      <td>Transparent</td>\n",
       "      <td>20 FL OZ</td>\n",
       "      <td>With Added Sugar</td>\n",
       "      <td>Thick</td>\n",
       "      <td>Single-fruit Flavor</td>\n",
       "      <td>4</td>\n",
       "    </tr>\n",
       "    <tr>\n",
       "      <td>4</td>\n",
       "      <td>Transparent</td>\n",
       "      <td>12 FL OZ</td>\n",
       "      <td>With Added Sugar</td>\n",
       "      <td>Thick</td>\n",
       "      <td>Mixed-fruit Flavor</td>\n",
       "      <td>5</td>\n",
       "    </tr>\n",
       "    <tr>\n",
       "      <td>5</td>\n",
       "      <td>Non-transparent</td>\n",
       "      <td>20 FL OZ</td>\n",
       "      <td>With Added Sugar</td>\n",
       "      <td>Thick</td>\n",
       "      <td>Single-fruit Flavor</td>\n",
       "      <td>6</td>\n",
       "    </tr>\n",
       "    <tr>\n",
       "      <td>6</td>\n",
       "      <td>Non-transparent</td>\n",
       "      <td>12 FL OZ</td>\n",
       "      <td>Without Added Sugar</td>\n",
       "      <td>Juicy</td>\n",
       "      <td>Single-fruit Flavor</td>\n",
       "      <td>7</td>\n",
       "    </tr>\n",
       "    <tr>\n",
       "      <td>7</td>\n",
       "      <td>Transparent</td>\n",
       "      <td>12 FL OZ</td>\n",
       "      <td>With Added Sugar</td>\n",
       "      <td>Juicy</td>\n",
       "      <td>Mixed-fruit Flavor</td>\n",
       "      <td>8</td>\n",
       "    </tr>\n",
       "    <tr>\n",
       "      <td>8</td>\n",
       "      <td>Non-transparent</td>\n",
       "      <td>20 FL OZ</td>\n",
       "      <td>With Added Sugar</td>\n",
       "      <td>Juicy</td>\n",
       "      <td>Mixed-fruit Flavor</td>\n",
       "      <td>9</td>\n",
       "    </tr>\n",
       "    <tr>\n",
       "      <td>9</td>\n",
       "      <td>Transparent</td>\n",
       "      <td>20 FL OZ</td>\n",
       "      <td>Without Added Sugar</td>\n",
       "      <td>Juicy</td>\n",
       "      <td>Single-fruit Flavor</td>\n",
       "      <td>10</td>\n",
       "    </tr>\n",
       "    <tr>\n",
       "      <td>10</td>\n",
       "      <td>Non-transparent</td>\n",
       "      <td>12 FL OZ</td>\n",
       "      <td>With Added Sugar</td>\n",
       "      <td>Juicy</td>\n",
       "      <td>Single-fruit Flavor</td>\n",
       "      <td>11</td>\n",
       "    </tr>\n",
       "    <tr>\n",
       "      <td>11</td>\n",
       "      <td>Transparent</td>\n",
       "      <td>12 FL OZ</td>\n",
       "      <td>Without Added Sugar</td>\n",
       "      <td>Thick</td>\n",
       "      <td>Single-fruit Flavor</td>\n",
       "      <td>12</td>\n",
       "    </tr>\n",
       "  </tbody>\n",
       "</table>\n",
       "</div>"
      ],
      "text/plain": [
       "       Transparency    Volume                Sugar Texture  \\\n",
       "0   Non-transparent  20 FL OZ  Without Added Sugar   Thick   \n",
       "1   Non-transparent  12 FL OZ  Without Added Sugar   Thick   \n",
       "2       Transparent  20 FL OZ  Without Added Sugar   Juicy   \n",
       "3       Transparent  20 FL OZ     With Added Sugar   Thick   \n",
       "4       Transparent  12 FL OZ     With Added Sugar   Thick   \n",
       "5   Non-transparent  20 FL OZ     With Added Sugar   Thick   \n",
       "6   Non-transparent  12 FL OZ  Without Added Sugar   Juicy   \n",
       "7       Transparent  12 FL OZ     With Added Sugar   Juicy   \n",
       "8   Non-transparent  20 FL OZ     With Added Sugar   Juicy   \n",
       "9       Transparent  20 FL OZ  Without Added Sugar   Juicy   \n",
       "10  Non-transparent  12 FL OZ     With Added Sugar   Juicy   \n",
       "11      Transparent  12 FL OZ  Without Added Sugar   Thick   \n",
       "\n",
       "                 Flavor product  \n",
       "0    Mixed-fruit Flavor       1  \n",
       "1    Mixed-fruit Flavor       2  \n",
       "2    Mixed-fruit Flavor       3  \n",
       "3   Single-fruit Flavor       4  \n",
       "4    Mixed-fruit Flavor       5  \n",
       "5   Single-fruit Flavor       6  \n",
       "6   Single-fruit Flavor       7  \n",
       "7    Mixed-fruit Flavor       8  \n",
       "8    Mixed-fruit Flavor       9  \n",
       "9   Single-fruit Flavor      10  \n",
       "10  Single-fruit Flavor      11  \n",
       "11  Single-fruit Flavor      12  "
      ]
     },
     "execution_count": 8,
     "metadata": {},
     "output_type": "execute_result"
    }
   ],
   "source": [
    "# Use the designer script to find a matching design.\n",
    "design = designer.get_design(attributes)\n",
    "design\n",
    "design2 = design.assign(product = [str(i) for i in range(1,13)]) \n",
    "design2"
   ]
  },
  {
   "cell_type": "markdown",
   "metadata": {},
   "source": [
    "### Parts 2 & 3: Write and administer the survey\n",
    "**Task 2:** When you are done administering the survey:\n",
    "- download CSV from qualtrics\n",
    "- rename the file `survey.csv` and upload it here, and\n",
    "- read the CSV file in as a pandas data frame called `raw_survey_results`."
   ]
  },
  {
   "cell_type": "code",
   "execution_count": 9,
   "metadata": {},
   "outputs": [],
   "source": [
    "import pandas as pd\n",
    "raw_survey_results = pd.read_csv(\"survey.csv\",header =1)"
   ]
  },
  {
   "cell_type": "markdown",
   "metadata": {},
   "source": [
    "**Task 3:** Clean the data in preparation for analysis; name the clean data frame `clean_survey_results`.  You may need to do some or all of the following:\n",
    "- remove rows and/or columns\n",
    "- rename columns\n",
    "- melt the data\n",
    "- merge the data with the design data frame you created previously\n",
    "The final data frame should have one row per rating with the following columns:\n",
    "- some kind of respondent identifier to distinguish individuals\n",
    "- the rating (1-7)\n",
    "- one column for each attribute"
   ]
  },
  {
   "cell_type": "code",
   "execution_count": 10,
   "metadata": {},
   "outputs": [
    {
     "data": {
      "text/html": [
       "<div>\n",
       "<style scoped>\n",
       "    .dataframe tbody tr th:only-of-type {\n",
       "        vertical-align: middle;\n",
       "    }\n",
       "\n",
       "    .dataframe tbody tr th {\n",
       "        vertical-align: top;\n",
       "    }\n",
       "\n",
       "    .dataframe thead th {\n",
       "        text-align: right;\n",
       "    }\n",
       "</style>\n",
       "<table border=\"1\" class=\"dataframe\">\n",
       "  <thead>\n",
       "    <tr style=\"text-align: right;\">\n",
       "      <th></th>\n",
       "      <th>Response ID</th>\n",
       "      <th>rating</th>\n",
       "      <th>Transparency</th>\n",
       "      <th>Volume</th>\n",
       "      <th>Sugar</th>\n",
       "      <th>Texture</th>\n",
       "      <th>Flavor</th>\n",
       "    </tr>\n",
       "  </thead>\n",
       "  <tbody>\n",
       "    <tr>\n",
       "      <td>0</td>\n",
       "      <td>R_21cD7IBjjMfnequ</td>\n",
       "      <td>2</td>\n",
       "      <td>Non-transparent</td>\n",
       "      <td>20 FL OZ</td>\n",
       "      <td>Without Added Sugar</td>\n",
       "      <td>Thick</td>\n",
       "      <td>Mixed-fruit Flavor</td>\n",
       "    </tr>\n",
       "    <tr>\n",
       "      <td>1</td>\n",
       "      <td>R_2PvZT1wkMwd46OK</td>\n",
       "      <td>2</td>\n",
       "      <td>Non-transparent</td>\n",
       "      <td>20 FL OZ</td>\n",
       "      <td>Without Added Sugar</td>\n",
       "      <td>Thick</td>\n",
       "      <td>Mixed-fruit Flavor</td>\n",
       "    </tr>\n",
       "    <tr>\n",
       "      <td>2</td>\n",
       "      <td>R_2VpwEJ8FEy5qDTG</td>\n",
       "      <td>2</td>\n",
       "      <td>Non-transparent</td>\n",
       "      <td>20 FL OZ</td>\n",
       "      <td>Without Added Sugar</td>\n",
       "      <td>Thick</td>\n",
       "      <td>Mixed-fruit Flavor</td>\n",
       "    </tr>\n",
       "    <tr>\n",
       "      <td>3</td>\n",
       "      <td>R_3sgnaIzKjam1RRs</td>\n",
       "      <td>3</td>\n",
       "      <td>Non-transparent</td>\n",
       "      <td>20 FL OZ</td>\n",
       "      <td>Without Added Sugar</td>\n",
       "      <td>Thick</td>\n",
       "      <td>Mixed-fruit Flavor</td>\n",
       "    </tr>\n",
       "    <tr>\n",
       "      <td>4</td>\n",
       "      <td>R_5oRSzEhrVqUX4Sl</td>\n",
       "      <td>6</td>\n",
       "      <td>Non-transparent</td>\n",
       "      <td>20 FL OZ</td>\n",
       "      <td>Without Added Sugar</td>\n",
       "      <td>Thick</td>\n",
       "      <td>Mixed-fruit Flavor</td>\n",
       "    </tr>\n",
       "    <tr>\n",
       "      <td>...</td>\n",
       "      <td>...</td>\n",
       "      <td>...</td>\n",
       "      <td>...</td>\n",
       "      <td>...</td>\n",
       "      <td>...</td>\n",
       "      <td>...</td>\n",
       "      <td>...</td>\n",
       "    </tr>\n",
       "    <tr>\n",
       "      <td>259</td>\n",
       "      <td>R_r0f1bjxpcCAQlUt</td>\n",
       "      <td>5</td>\n",
       "      <td>Transparent</td>\n",
       "      <td>12 FL OZ</td>\n",
       "      <td>Without Added Sugar</td>\n",
       "      <td>Thick</td>\n",
       "      <td>Single-fruit Flavor</td>\n",
       "    </tr>\n",
       "    <tr>\n",
       "      <td>260</td>\n",
       "      <td>R_1hTnkz1lvugm5SX</td>\n",
       "      <td>1</td>\n",
       "      <td>Transparent</td>\n",
       "      <td>12 FL OZ</td>\n",
       "      <td>Without Added Sugar</td>\n",
       "      <td>Thick</td>\n",
       "      <td>Single-fruit Flavor</td>\n",
       "    </tr>\n",
       "    <tr>\n",
       "      <td>261</td>\n",
       "      <td>R_1hKZwDhNyFkPdLB</td>\n",
       "      <td>4</td>\n",
       "      <td>Transparent</td>\n",
       "      <td>12 FL OZ</td>\n",
       "      <td>Without Added Sugar</td>\n",
       "      <td>Thick</td>\n",
       "      <td>Single-fruit Flavor</td>\n",
       "    </tr>\n",
       "    <tr>\n",
       "      <td>262</td>\n",
       "      <td>R_2X6UPTw40psPglU</td>\n",
       "      <td>4</td>\n",
       "      <td>Transparent</td>\n",
       "      <td>12 FL OZ</td>\n",
       "      <td>Without Added Sugar</td>\n",
       "      <td>Thick</td>\n",
       "      <td>Single-fruit Flavor</td>\n",
       "    </tr>\n",
       "    <tr>\n",
       "      <td>263</td>\n",
       "      <td>R_d3WSgKkK6YMRmzT</td>\n",
       "      <td>5</td>\n",
       "      <td>Transparent</td>\n",
       "      <td>12 FL OZ</td>\n",
       "      <td>Without Added Sugar</td>\n",
       "      <td>Thick</td>\n",
       "      <td>Single-fruit Flavor</td>\n",
       "    </tr>\n",
       "  </tbody>\n",
       "</table>\n",
       "<p>264 rows × 7 columns</p>\n",
       "</div>"
      ],
      "text/plain": [
       "           Response ID rating     Transparency    Volume                Sugar  \\\n",
       "0    R_21cD7IBjjMfnequ      2  Non-transparent  20 FL OZ  Without Added Sugar   \n",
       "1    R_2PvZT1wkMwd46OK      2  Non-transparent  20 FL OZ  Without Added Sugar   \n",
       "2    R_2VpwEJ8FEy5qDTG      2  Non-transparent  20 FL OZ  Without Added Sugar   \n",
       "3    R_3sgnaIzKjam1RRs      3  Non-transparent  20 FL OZ  Without Added Sugar   \n",
       "4    R_5oRSzEhrVqUX4Sl      6  Non-transparent  20 FL OZ  Without Added Sugar   \n",
       "..                 ...    ...              ...       ...                  ...   \n",
       "259  R_r0f1bjxpcCAQlUt      5      Transparent  12 FL OZ  Without Added Sugar   \n",
       "260  R_1hTnkz1lvugm5SX      1      Transparent  12 FL OZ  Without Added Sugar   \n",
       "261  R_1hKZwDhNyFkPdLB      4      Transparent  12 FL OZ  Without Added Sugar   \n",
       "262  R_2X6UPTw40psPglU      4      Transparent  12 FL OZ  Without Added Sugar   \n",
       "263  R_d3WSgKkK6YMRmzT      5      Transparent  12 FL OZ  Without Added Sugar   \n",
       "\n",
       "    Texture               Flavor  \n",
       "0     Thick   Mixed-fruit Flavor  \n",
       "1     Thick   Mixed-fruit Flavor  \n",
       "2     Thick   Mixed-fruit Flavor  \n",
       "3     Thick   Mixed-fruit Flavor  \n",
       "4     Thick   Mixed-fruit Flavor  \n",
       "..      ...                  ...  \n",
       "259   Thick  Single-fruit Flavor  \n",
       "260   Thick  Single-fruit Flavor  \n",
       "261   Thick  Single-fruit Flavor  \n",
       "262   Thick  Single-fruit Flavor  \n",
       "263   Thick  Single-fruit Flavor  \n",
       "\n",
       "[264 rows x 7 columns]"
      ]
     },
     "execution_count": 10,
     "metadata": {},
     "output_type": "execute_result"
    }
   ],
   "source": [
    "import pandas as pd\n",
    "import numpy as np\n",
    "clean_survey_results = raw_survey_results.drop(raw_survey_results.index[0])\n",
    "clean_survey_results = clean_survey_results.drop(clean_survey_results.columns[0:8], axis=1)\n",
    "clean_survey_results = clean_survey_results.drop(clean_survey_results.columns[1:9], axis=1)\n",
    "clean_survey_results = clean_survey_results.drop(clean_survey_results.columns[13:], axis=1)\n",
    "clean_survey_results.columns = ['Response ID'] +([str(i) for i in range(1,13)])\n",
    "clean_survey_results = clean_survey_results.drop([1,2,3,4,5])\n",
    "clean_survey_results = clean_survey_results.drop([28,29,30])\n",
    "clean_survey_results = pd.melt(clean_survey_results, id_vars = ['Response ID'], \n",
    "                               var_name='product', value_name='rating')\n",
    "clean_survey_results = clean_survey_results.merge(design2, on='product')\n",
    "clean_survey_results = clean_survey_results.drop('product', axis=1)\n",
    "clean_survey_results"
   ]
  },
  {
   "cell_type": "markdown",
   "metadata": {},
   "source": [
    "**Task 4:** Introduce dummy variables in preparation for anlaysis.  Now, for each attribute, there should be the number of levels minus one.  (The intercept captures the \"default\" level, and the part-worths for all other levels will be measured relative to the default utility.)"
   ]
  },
  {
   "cell_type": "code",
   "execution_count": 11,
   "metadata": {},
   "outputs": [
    {
     "data": {
      "text/html": [
       "<div>\n",
       "<style scoped>\n",
       "    .dataframe tbody tr th:only-of-type {\n",
       "        vertical-align: middle;\n",
       "    }\n",
       "\n",
       "    .dataframe tbody tr th {\n",
       "        vertical-align: top;\n",
       "    }\n",
       "\n",
       "    .dataframe thead th {\n",
       "        text-align: right;\n",
       "    }\n",
       "</style>\n",
       "<table border=\"1\" class=\"dataframe\">\n",
       "  <thead>\n",
       "    <tr style=\"text-align: right;\">\n",
       "      <th></th>\n",
       "      <th>Response ID</th>\n",
       "      <th>rating</th>\n",
       "      <th>Transparency_alt</th>\n",
       "      <th>Volume_alt</th>\n",
       "      <th>Sugar_alt</th>\n",
       "      <th>Texture_alt</th>\n",
       "      <th>Flavor_alt</th>\n",
       "    </tr>\n",
       "  </thead>\n",
       "  <tbody>\n",
       "    <tr>\n",
       "      <td>0</td>\n",
       "      <td>R_21cD7IBjjMfnequ</td>\n",
       "      <td>2</td>\n",
       "      <td>False</td>\n",
       "      <td>False</td>\n",
       "      <td>True</td>\n",
       "      <td>True</td>\n",
       "      <td>False</td>\n",
       "    </tr>\n",
       "    <tr>\n",
       "      <td>1</td>\n",
       "      <td>R_2PvZT1wkMwd46OK</td>\n",
       "      <td>2</td>\n",
       "      <td>False</td>\n",
       "      <td>False</td>\n",
       "      <td>True</td>\n",
       "      <td>True</td>\n",
       "      <td>False</td>\n",
       "    </tr>\n",
       "    <tr>\n",
       "      <td>2</td>\n",
       "      <td>R_2VpwEJ8FEy5qDTG</td>\n",
       "      <td>2</td>\n",
       "      <td>False</td>\n",
       "      <td>False</td>\n",
       "      <td>True</td>\n",
       "      <td>True</td>\n",
       "      <td>False</td>\n",
       "    </tr>\n",
       "    <tr>\n",
       "      <td>3</td>\n",
       "      <td>R_3sgnaIzKjam1RRs</td>\n",
       "      <td>3</td>\n",
       "      <td>False</td>\n",
       "      <td>False</td>\n",
       "      <td>True</td>\n",
       "      <td>True</td>\n",
       "      <td>False</td>\n",
       "    </tr>\n",
       "    <tr>\n",
       "      <td>4</td>\n",
       "      <td>R_5oRSzEhrVqUX4Sl</td>\n",
       "      <td>6</td>\n",
       "      <td>False</td>\n",
       "      <td>False</td>\n",
       "      <td>True</td>\n",
       "      <td>True</td>\n",
       "      <td>False</td>\n",
       "    </tr>\n",
       "  </tbody>\n",
       "</table>\n",
       "</div>"
      ],
      "text/plain": [
       "         Response ID rating  Transparency_alt  Volume_alt  Sugar_alt  \\\n",
       "0  R_21cD7IBjjMfnequ      2             False       False       True   \n",
       "1  R_2PvZT1wkMwd46OK      2             False       False       True   \n",
       "2  R_2VpwEJ8FEy5qDTG      2             False       False       True   \n",
       "3  R_3sgnaIzKjam1RRs      3             False       False       True   \n",
       "4  R_5oRSzEhrVqUX4Sl      6             False       False       True   \n",
       "\n",
       "   Texture_alt  Flavor_alt  \n",
       "0         True       False  \n",
       "1         True       False  \n",
       "2         True       False  \n",
       "3         True       False  \n",
       "4         True       False  "
      ]
     },
     "execution_count": 11,
     "metadata": {},
     "output_type": "execute_result"
    }
   ],
   "source": [
    "data = clean_survey_results\n",
    "data['Transparency_alt'] = data['Transparency'] == \"Transparent\"\n",
    "# e.g., if there were a third soda Brand, we would need something like this:\n",
    "# data['brand_alt2'] = data['brand'] == \"Dr. Pepper\"\n",
    "data['Volume_alt'] = data['Volume'] == \"12 FL OZ\"\n",
    "data['Sugar_alt'] = data['Sugar'] == \"Without Added Sugar\"\n",
    "data['Texture_alt'] = data['Texture'] == \"Thick\"\n",
    "data['Flavor_alt'] = data['Flavor'] == \"Single-fruit Flavor\"\n",
    "data = data.drop(['Transparency', 'Volume', 'Sugar','Texture','Flavor'], axis=1)\n",
    "data.head(5)"
   ]
  },
  {
   "cell_type": "markdown",
   "metadata": {},
   "source": [
    "### Part 4: Estimate the average and individual part-worths\n",
    "\n",
    "You will use [sklearn's implementation of linear regression](https://scikit-learn.org/stable/modules/generated/sklearn.linear_model.LinearRegression.html) to estimate part-worths."
   ]
  },
  {
   "cell_type": "code",
   "execution_count": 12,
   "metadata": {},
   "outputs": [],
   "source": [
    "import numpy as np\n",
    "from sklearn.linear_model import LinearRegression"
   ]
  },
  {
   "cell_type": "markdown",
   "metadata": {},
   "source": [
    "**Task 5:** Compute the average part-worths by:\n",
    "- splitting the data into `y` (the response/rating) and `X` (the explanatory variables/attribute levels), and\n",
    "- Run a linear regression to estimate intercept and coefficients."
   ]
  },
  {
   "cell_type": "code",
   "execution_count": 13,
   "metadata": {},
   "outputs": [
    {
     "data": {
      "text/plain": [
       "3.492424242424242"
      ]
     },
     "execution_count": 13,
     "metadata": {},
     "output_type": "execute_result"
    }
   ],
   "source": [
    "y = np.array(data.to_numpy()[:,1])\n",
    "X = np.array(data.to_numpy()[:,2:], dtype=int)\n",
    "reg = LinearRegression().fit(X, y)\n",
    "reg.intercept_"
   ]
  },
  {
   "cell_type": "code",
   "execution_count": 14,
   "metadata": {},
   "outputs": [
    {
     "data": {
      "text/plain": [
       "array([ 0.72727273,  0.13636364,  0.57575758, -1.16666667,  0.42424242])"
      ]
     },
     "execution_count": 14,
     "metadata": {},
     "output_type": "execute_result"
    }
   ],
   "source": [
    "reg.coef_"
   ]
  },
  {
   "cell_type": "markdown",
   "metadata": {},
   "source": [
    "**Task 6:** Calculate the importance of each attribute by doing the following steps.\n",
    "1. Compute the part-worth range for each attribute. \n",
    "2. Calculate the total range, summing the ranges over each attribute.\n",
    "3. Calculate the importance for a single attribute as the range for that attribute over the total range."
   ]
  },
  {
   "cell_type": "code",
   "execution_count": 15,
   "metadata": {},
   "outputs": [
    {
     "data": {
      "text/plain": [
       "array([0.72727273, 0.13636364, 0.57575758, 1.16666667, 0.42424242])"
      ]
     },
     "execution_count": 15,
     "metadata": {},
     "output_type": "execute_result"
    }
   ],
   "source": [
    "ranges = abs(reg.coef_)\n",
    "ranges"
   ]
  },
  {
   "cell_type": "code",
   "execution_count": 16,
   "metadata": {},
   "outputs": [
    {
     "data": {
      "text/plain": [
       "array([0.24 , 0.045, 0.19 , 0.385, 0.14 ])"
      ]
     },
     "execution_count": 16,
     "metadata": {},
     "output_type": "execute_result"
    }
   ],
   "source": [
    "ranges / sum(ranges)"
   ]
  },
  {
   "cell_type": "markdown",
   "metadata": {},
   "source": [
    "**Task 7:** Now calculate individual part-worths.  You will do this by dividing up the data by individual respondent and running one regression for each respondent.  You should write a loop to iterate over all the respondents instead of doing each one manually.\n",
    "\n",
    "You will want to create a data frame called `individual_part_worths` that has one row per individual respondent; the columns should be the respondent identifier, the intercept of the regression, and all the coefficients of the regression."
   ]
  },
  {
   "cell_type": "code",
   "execution_count": 17,
   "metadata": {},
   "outputs": [
    {
     "name": "stdout",
     "output_type": "stream",
     "text": [
      "          Response ID  Intercept            c1            c2        c3  \\\n",
      "1   R_1MYb8NRVqWDic9s   5.500000  1.166667e+00 -1.666667e-01 -0.833333   \n",
      "2   R_1hKZwDhNyFkPdLB   5.166667  6.666667e-01  3.333333e-01 -0.666667   \n",
      "3   R_1hTnkz1lvugm5SX   2.000000 -2.000000e+00  3.333333e-01  2.000000   \n",
      "4   R_1jNYCTi8jqmXLua   3.833333  1.333333e+00  6.666667e-01  0.666667   \n",
      "5   R_1li1A1KUljAqBXd   1.666667  1.500000e+00 -8.333333e-01  1.833333   \n",
      "6   R_21alOwOj62tYfuY   3.333333  5.000000e-01  1.666667e-01 -0.166667   \n",
      "7   R_21cD7IBjjMfnequ   5.166667 -3.333333e-01 -2.220446e-16 -1.666667   \n",
      "8   R_21ccNHOq6XeTmQA   4.666667  0.000000e+00  6.666667e-01 -0.333333   \n",
      "9   R_23VnLa7MO6QGfeB   0.833333  2.333333e+00 -3.333333e-01  1.666667   \n",
      "10  R_2OMYNx5tkI5SfiQ   1.333333  2.166667e+00 -1.666667e-01  1.166667   \n",
      "11  R_2PvZT1wkMwd46OK   3.833333  1.000000e+00 -3.333333e-01 -0.333333   \n",
      "12  R_2VpwEJ8FEy5qDTG   1.666667  2.333333e+00 -3.333333e-01  2.000000   \n",
      "13  R_2X6UPTw40psPglU   5.000000  0.000000e+00 -2.220446e-16  2.000000   \n",
      "14  R_2b2wbTurnnR2AV3   6.000000  2.563950e-16  3.333333e-01 -1.000000   \n",
      "15  R_2zMhSFzZUnZ6Z7Y   1.833333  2.000000e+00 -1.000000e+00  2.333333   \n",
      "16  R_3GrnBnLLur6AsnM   5.500000  1.666667e-01  5.000000e-01 -0.833333   \n",
      "17  R_3sgnaIzKjam1RRs   0.500000  1.000000e+00  6.383782e-16  4.000000   \n",
      "18  R_5oRSzEhrVqUX4Sl   4.000000 -1.500000e+00  8.333333e-01  1.500000   \n",
      "19  R_SB5dxiOGOn6sBjj   3.833333  1.333333e+00 -3.333333e-01 -0.333333   \n",
      "20  R_abhnQl7JF8hyMwx   5.666667  0.000000e+00  6.666667e-01 -0.333333   \n",
      "21  R_d3WSgKkK6YMRmzT   4.000000  1.000000e+00  6.666667e-01 -0.333333   \n",
      "22  R_r0f1bjxpcCAQlUt   1.500000  1.333333e+00  1.333333e+00  0.333333   \n",
      "\n",
      "              c4            c5  \n",
      "1  -1.500000e+00  1.666667e-01  \n",
      "2  -1.666667e+00  3.333333e-01  \n",
      "3   1.333333e+00 -1.333333e+00  \n",
      "4  -3.333333e-01 -6.666667e-01  \n",
      "5  -1.166667e+00  1.166667e+00  \n",
      "6  -8.333333e-01  1.500000e+00  \n",
      "7  -1.000000e+00  6.666667e-01  \n",
      "8  -1.666667e+00  1.000000e+00  \n",
      "9   1.110223e-16  1.000000e+00  \n",
      "10 -5.000000e-01  8.333333e-01  \n",
      "11 -1.666667e+00  1.333333e+00  \n",
      "12 -2.000000e+00  6.666667e-01  \n",
      "13 -3.000000e+00  1.665335e-16  \n",
      "14 -2.666667e+00  6.666667e-01  \n",
      "15 -1.333333e+00  6.666667e-01  \n",
      "16 -1.166667e+00  1.166667e+00  \n",
      "17 -6.666667e-01  6.666667e-01  \n",
      "18 -1.666667e-01 -1.166667e+00  \n",
      "19 -1.000000e+00  3.333333e-01  \n",
      "20 -3.333333e+00  3.333333e-01  \n",
      "21 -1.333333e+00  3.333333e-01  \n",
      "22  3.330669e-16 -3.333333e-01  \n"
     ]
    }
   ],
   "source": [
    "individual_part_worths = pd.DataFrame(columns = [\"Response ID\", \"Intercept\", \"c1\", \"c2\", \"c3\", \"c4\", \"c5\"])\n",
    "grouped_data = data.groupby(by=\"Response ID\")\n",
    "for id, group in grouped_data:\n",
    "    y = np.array(group.to_numpy()[:,1])\n",
    "    X = np.array(group.to_numpy()[:,2:], dtype=int)\n",
    "    reg = LinearRegression().fit(X, y)\n",
    "    individual_part_worths.loc[individual_part_worths.shape[0]+1] = [id,reg.intercept_] + reg.coef_.tolist()\n",
    "print(individual_part_worths)"
   ]
  },
  {
   "cell_type": "markdown",
   "metadata": {},
   "source": [
    "**Task 8:** Create a visualization of the individual respondent coefficients and intercepts.  On the x axis should have categories for each of the level dummy variables and default; on the y-axis should be the part-worths (the values of the coefficients and the intercepts).  You should ploth both a summary of the part-worths (e.g., a violin plot, or box and whiskers) and the individual values."
   ]
  },
  {
   "cell_type": "code",
   "execution_count": null,
   "metadata": {},
   "outputs": [],
   "source": [
    "# Set up R, if desired for visualization\n",
    "import rpy2.ipython\n",
    "%reload_ext rpy2.ipython"
   ]
  },
  {
   "cell_type": "code",
   "execution_count": 15,
   "metadata": {},
   "outputs": [
    {
     "data": {
      "text/html": [
       "<div>\n",
       "<style scoped>\n",
       "    .dataframe tbody tr th:only-of-type {\n",
       "        vertical-align: middle;\n",
       "    }\n",
       "\n",
       "    .dataframe tbody tr th {\n",
       "        vertical-align: top;\n",
       "    }\n",
       "\n",
       "    .dataframe thead th {\n",
       "        text-align: right;\n",
       "    }\n",
       "</style>\n",
       "<table border=\"1\" class=\"dataframe\">\n",
       "  <thead>\n",
       "    <tr style=\"text-align: right;\">\n",
       "      <th></th>\n",
       "      <th>Response ID</th>\n",
       "      <th>Variable</th>\n",
       "      <th>Value</th>\n",
       "    </tr>\n",
       "  </thead>\n",
       "  <tbody>\n",
       "    <tr>\n",
       "      <td>0</td>\n",
       "      <td>R_1MYb8NRVqWDic9s</td>\n",
       "      <td>c1</td>\n",
       "      <td>1.166667</td>\n",
       "    </tr>\n",
       "    <tr>\n",
       "      <td>1</td>\n",
       "      <td>R_1hKZwDhNyFkPdLB</td>\n",
       "      <td>c1</td>\n",
       "      <td>0.666667</td>\n",
       "    </tr>\n",
       "    <tr>\n",
       "      <td>2</td>\n",
       "      <td>R_1hTnkz1lvugm5SX</td>\n",
       "      <td>c1</td>\n",
       "      <td>-2.000000</td>\n",
       "    </tr>\n",
       "    <tr>\n",
       "      <td>3</td>\n",
       "      <td>R_1jNYCTi8jqmXLua</td>\n",
       "      <td>c1</td>\n",
       "      <td>1.333333</td>\n",
       "    </tr>\n",
       "    <tr>\n",
       "      <td>4</td>\n",
       "      <td>R_1li1A1KUljAqBXd</td>\n",
       "      <td>c1</td>\n",
       "      <td>1.500000</td>\n",
       "    </tr>\n",
       "    <tr>\n",
       "      <td>...</td>\n",
       "      <td>...</td>\n",
       "      <td>...</td>\n",
       "      <td>...</td>\n",
       "    </tr>\n",
       "    <tr>\n",
       "      <td>127</td>\n",
       "      <td>R_5oRSzEhrVqUX4Sl</td>\n",
       "      <td>Intercept</td>\n",
       "      <td>4.000000</td>\n",
       "    </tr>\n",
       "    <tr>\n",
       "      <td>128</td>\n",
       "      <td>R_SB5dxiOGOn6sBjj</td>\n",
       "      <td>Intercept</td>\n",
       "      <td>3.833333</td>\n",
       "    </tr>\n",
       "    <tr>\n",
       "      <td>129</td>\n",
       "      <td>R_abhnQl7JF8hyMwx</td>\n",
       "      <td>Intercept</td>\n",
       "      <td>5.666667</td>\n",
       "    </tr>\n",
       "    <tr>\n",
       "      <td>130</td>\n",
       "      <td>R_d3WSgKkK6YMRmzT</td>\n",
       "      <td>Intercept</td>\n",
       "      <td>4.000000</td>\n",
       "    </tr>\n",
       "    <tr>\n",
       "      <td>131</td>\n",
       "      <td>R_r0f1bjxpcCAQlUt</td>\n",
       "      <td>Intercept</td>\n",
       "      <td>1.500000</td>\n",
       "    </tr>\n",
       "  </tbody>\n",
       "</table>\n",
       "<p>132 rows × 3 columns</p>\n",
       "</div>"
      ],
      "text/plain": [
       "           Response ID   Variable     Value\n",
       "0    R_1MYb8NRVqWDic9s         c1  1.166667\n",
       "1    R_1hKZwDhNyFkPdLB         c1  0.666667\n",
       "2    R_1hTnkz1lvugm5SX         c1 -2.000000\n",
       "3    R_1jNYCTi8jqmXLua         c1  1.333333\n",
       "4    R_1li1A1KUljAqBXd         c1  1.500000\n",
       "..                 ...        ...       ...\n",
       "127  R_5oRSzEhrVqUX4Sl  Intercept  4.000000\n",
       "128  R_SB5dxiOGOn6sBjj  Intercept  3.833333\n",
       "129  R_abhnQl7JF8hyMwx  Intercept  5.666667\n",
       "130  R_d3WSgKkK6YMRmzT  Intercept  4.000000\n",
       "131  R_r0f1bjxpcCAQlUt  Intercept  1.500000\n",
       "\n",
       "[132 rows x 3 columns]"
      ]
     },
     "execution_count": 15,
     "metadata": {},
     "output_type": "execute_result"
    }
   ],
   "source": [
    "individual_part_worths_plot = pd.melt(individual_part_worths, id_vars = ['Response ID'], value_vars = [\"c1\",\"c2\",\"c3\",\"c4\",\"c5\",\"Intercept\"],var_name='Variable', value_name='Value')\n",
    "individual_part_worths_plot"
   ]
  },
  {
   "cell_type": "code",
   "execution_count": 25,
   "metadata": {},
   "outputs": [
    {
     "name": "stderr",
     "output_type": "stream",
     "text": [
      "UsageError: Cell magic `%%R` not found.\n"
     ]
    }
   ],
   "source": [
    "%%R -i individual_part_worths_plot\n",
    "library(ggplot2)\n",
    "# Basic box plot\n",
    "p_box <- ggplot(individual_part_worths_plot, aes(x=Variable, y=Value)) + geom_hline(yintercept=mean(individual_part_worths_plot$Intercept), linetype=\"dashed\", color = \"red\")+geom_hline(yintercept=0, color = \"red\")+geom_boxplot()\n",
    "p_box"
   ]
  },
  {
   "cell_type": "code",
   "execution_count": null,
   "metadata": {},
   "outputs": [],
   "source": [
    "%%R\n",
    "ggsave(\"Summary of Part-worths.pdf\", width=6.5, height=3)"
   ]
  },
  {
   "cell_type": "code",
   "execution_count": 23,
   "metadata": {},
   "outputs": [
    {
     "name": "stderr",
     "output_type": "stream",
     "text": [
      "UsageError: Cell magic `%%R` not found.\n"
     ]
    }
   ],
   "source": [
    "%%R -i individual_part_worths_plot\n",
    "library(ggplot2)\n",
    "# Basic box plot\n",
    "p_scatter <- ggplot(individual_part_worths_plot, aes(x=Variable, y=Value)) + geom_hline(yintercept=mean(individual_part_worths_plot$Intercept), linetype=\"dashed\", color = \"red\")+geom_hline(yintercept=0, color = \"red\")+geom_point()\n",
    "p_scatter"
   ]
  },
  {
   "cell_type": "code",
   "execution_count": null,
   "metadata": {},
   "outputs": [],
   "source": [
    "%%R\n",
    "ggsave(\"Individual Value of Part-worths.pdf\", width=6.5, height=3)"
   ]
  },
  {
   "cell_type": "markdown",
   "metadata": {},
   "source": [
    "### Part 5: Simulate the Market\n",
    "**Task 9:** Write a function `utility` that takes two arguments:\n",
    "- `product`: a list of which level has been selected for each attribute.  For example, if the two attributes were color (with levels red and green) and shape (with levels round and square), then `product` could take the value `[\"red\", \"square\"]`.\n",
    "- `part_worths`: a row from the `individual_part_worths` data frame created for Task 6 (i.e., one individual's part-worths) .\n",
    "\n",
    "The `utility` function should compute and return the utility of the specified individual for the specified product; this is the intercept plus any relevant part-worths that correspond to the product's attribute levels."
   ]
  },
  {
   "cell_type": "code",
   "execution_count": 18,
   "metadata": {},
   "outputs": [],
   "source": [
    "def utility(product, part_worths):\n",
    "    pw = part_worths.to_numpy()\n",
    "    ans = pw[1]\n",
    "    for i in range(5):\n",
    "        if product[i]:\n",
    "            ans += pw[i+2]\n",
    "    return ans"
   ]
  },
  {
   "cell_type": "markdown",
   "metadata": {},
   "source": [
    "**Task 10:** Write a function `choose_product` that takes two arguments:\n",
    "- `products`: a list of products, where each product is its own list as specified in Task 8, (Yes, it's a list of lists!)\n",
    "- `part_worths`: a row of inidivudual part worths, just as used in Task 8.\n",
    "\n",
    "This fuction should return a numpy array with the same length as the number of products; this array should contain a boolean value (true or false) for each product.  The value for a product should be true if it maximizes the utility for the individual; as multiple products can have equivalent utilities, more than one product might maximize utility.\n",
    "\n",
    "As an example, if there are two products, the `choose_product` function could return `[True, False]` if the first product maximizes the utility, `[False, True]` if the second product maximizes utility, or `[True, True]` if both products have the same utility and therefor both maximize utility for specified the individual."
   ]
  },
  {
   "cell_type": "code",
   "execution_count": 19,
   "metadata": {},
   "outputs": [],
   "source": [
    "def choose_product(products, part_worths):\n",
    "    score = []\n",
    "    ans = []\n",
    "    for product in products:\n",
    "        score.append(utility(product, part_worths))\n",
    "    maximum = max(score)\n",
    "    for product in products:\n",
    "        if (utility(product, part_worths) == maximum):\n",
    "            ans.append(True)\n",
    "        else:\n",
    "            ans.append(False)\n",
    "    return np.array(ans)"
   ]
  },
  {
   "cell_type": "markdown",
   "metadata": {},
   "source": [
    "**Task 11:** Write a function `simulate` that takes two arguments:\n",
    "- `products`: a list of products, identitcal to the argument for Task 9.\n",
    "- The `individual_part_worths` data frame created for Task 7.\n",
    "\n",
    "This function should simulate the market share of the products by having each individual choose a product from the list.  For an individual who chooses more than one item (multiple items are tied for the top utility value), their \"vote\" is split between the tied items.  The function should return an array of proportions of market share.  "
   ]
  },
  {
   "cell_type": "code",
   "execution_count": 20,
   "metadata": {},
   "outputs": [],
   "source": [
    "def simulate(products, individual_part_worths):\n",
    "    sim = np.empty((0,len(products)))\n",
    "    for index, pw in individual_part_worths.iterrows():\n",
    "        sim = np.append(sim, np.array([choose_product(products, pw).tolist()]), axis=0)\n",
    "    sim = sim*1\n",
    "    r,c = sim.shape\n",
    "    for i in range(r):\n",
    "        s = np.sum(sim[i])\n",
    "        if s:\n",
    "            sim[i] /= s\n",
    "    ans = []\n",
    "    for j in range(c):\n",
    "        ans.append(np.sum(sim[:,j]) / np.sum(sim))\n",
    "    return np.array(ans)"
   ]
  },
  {
   "cell_type": "markdown",
   "metadata": {},
   "source": [
    "**Task 12:** Create a variable called `my_product` that has the ideal value (maximum average utility) based on what you discovered in Task 5; this should be in the format described in Task 9.  For example, if the two attributes were color (with levels red and green) and shape (with levels round and square), then `my_product` could take the value `[\"red\", \"square\"]`.  Also create three competitiors (e.g., `competitor1`) using this same format.  Create a list called `all_products` that contains all four products and simulate the market with the products."
   ]
  },
  {
   "cell_type": "code",
   "execution_count": 21,
   "metadata": {},
   "outputs": [
    {
     "data": {
      "text/plain": [
       "array([0.15151515, 0.31060606, 0.10606061, 0.43181818])"
      ]
     },
     "execution_count": 21,
     "metadata": {},
     "output_type": "execute_result"
    }
   ],
   "source": [
    "my_product = [True,True,True,False,True]\n",
    "competitor1 = [True,False,True,False,True]\n",
    "competitor2 = [True,False,True,False,False]\n",
    "competitor3 = [True,True,False,False,True]\n",
    "all_products = [my_product,competitor1,competitor2,competitor3]\n",
    "simulate(all_products, individual_part_worths)"
   ]
  },
  {
   "cell_type": "markdown",
   "metadata": {},
   "source": [
    "**Task 13:** Redefine `my_product` such that the most important attribute (from Task 6) now has the least liked level (per what you found in Task 5) and rerun the market simulation keeping the competitors the same."
   ]
  },
  {
   "cell_type": "code",
   "execution_count": 22,
   "metadata": {},
   "outputs": [
    {
     "data": {
      "text/plain": [
       "array([0.09090909, 0.36363636, 0.11363636, 0.43181818])"
      ]
     },
     "execution_count": 22,
     "metadata": {},
     "output_type": "execute_result"
    }
   ],
   "source": [
    "my_product = [True,True,True,True,True]\n",
    "competitor1 = [True,False,True,False,True]\n",
    "competitor2 = [True,False,True,False,False]\n",
    "competitor3 = [True,True,False,False,True] #based on top utility\n",
    "all_products = [my_product,competitor1,competitor2,competitor3]\n",
    "\n",
    "simulate(all_products, individual_part_worths)"
   ]
  }
 ],
 "metadata": {
  "kernelspec": {
   "display_name": "Python 3",
   "language": "python",
   "name": "python3"
  },
  "language_info": {
   "codemirror_mode": {
    "name": "ipython",
    "version": 3
   },
   "file_extension": ".py",
   "mimetype": "text/x-python",
   "name": "python",
   "nbconvert_exporter": "python",
   "pygments_lexer": "ipython3",
   "version": "3.7.3"
  }
 },
 "nbformat": 4,
 "nbformat_minor": 2
}
